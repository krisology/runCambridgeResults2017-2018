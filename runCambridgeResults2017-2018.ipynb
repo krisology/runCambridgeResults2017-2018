{
 "cells": [
  {
   "cell_type": "code",
   "execution_count": 37,
   "metadata": {},
   "outputs": [
    {
     "data": {
      "text/plain": [
       "'0.20.3'"
      ]
     },
     "execution_count": 37,
     "metadata": {},
     "output_type": "execute_result"
    }
   ],
   "source": [
    "import warnings\n",
    "warnings.simplefilter('ignore', FutureWarning)\n",
    "\n",
    "from pandas import *\n",
    "# set display.max_rows to show all rows in the output\n",
    "pandas.set_option('display.max_rows', None)\n",
    "\n",
    "pandas.__version__"
   ]
  },
  {
   "cell_type": "markdown",
   "metadata": {},
   "source": [
    "# Analysis of runCambridge 2017-2018 results to find club runner candidates"
   ]
  },
  {
   "cell_type": "markdown",
   "metadata": {},
   "source": [
    "I asked Andy Irvine and he provided a dump of all the results from Oct 2017 - Sept 2018.\n",
    "\n",
    "First load all the results downloaded from runCambridge into the analysis. I haven't done any data cleanup as it all looks pretty good."
   ]
  },
  {
   "cell_type": "code",
   "execution_count": 38,
   "metadata": {},
   "outputs": [
    {
     "data": {
      "text/plain": [
       "Index(['race id', 'race type', 'start date', 'finish date', 'name',\n",
       "       'subevent num', 'subevent name', 'distance', 'distance units',\n",
       "       'accurate', 'venue', 'url', 'runner id', 'runner name', 'gun time',\n",
       "       'position', 'chip time', 'm/f position', 'status', 'pb', 'category',\n",
       "       'category position'],\n",
       "      dtype='object')"
      ]
     },
     "execution_count": 38,
     "metadata": {},
     "output_type": "execute_result"
    }
   ],
   "source": [
    "# Read in the Excel file to a dataframe called allResults\n",
    "allResults = read_excel('runCambridgeResults2017-2018.xlsx')\n",
    "# Show what columns are available in the data set.\n",
    "allResults.columns"
   ]
  },
  {
   "cell_type": "markdown",
   "metadata": {},
   "source": [
    "Show the distinct race names and the number of results per race. Unsurprisingly Cambridge and Wimpole parkruns have the most results."
   ]
  },
  {
   "cell_type": "code",
   "execution_count": 39,
   "metadata": {},
   "outputs": [
    {
     "data": {
      "text/plain": [
       "Cambridge parkrun                                            1597\n",
       "Wimpole Estate parkrun                                        652\n",
       "Cambridge Half Marathon                                       145\n",
       "ColdhamÆs Common parkrun                                      141\n",
       "Wimpole Belts 10K                                              97\n",
       "Kevin Henry 5K League - C&C                                    94\n",
       "Cambridgshire County Championships                             88\n",
       "Brandon parkrun                                                88\n",
       "C&C Boxing Day Run                                             78\n",
       "Kevin Henry 5K League - CTC                                    69\n",
       "English XC Championships                                       68\n",
       "Huntingdon parkrun                                             67\n",
       "Kevin Henry 5K League - Newmarket Joggers                      60\n",
       "Kevin Henry 5K League - Ely Runners                            51\n",
       "South of England Main XC Championships                         46\n",
       "Cambridge Town and Gown 10k                                    44\n",
       "Clare Castle parkrun                                           42\n",
       "Kevin Henry 5K League - Haverhill RC                           42\n",
       "Kevin Henry 5K League - Saffron Striders                       40\n",
       "Bury St Edmunds parkrun                                        38\n",
       "Frostbite Friendly League - Riverside Runners                  37\n",
       "Girton 5k                                                      36\n",
       "Barr Ellison (hoohaah) Wimpole 10k                             35\n",
       "Littleport parkrun                                             35\n",
       "Cambridge Town & Gown 10k                                      34\n",
       "Frostbite League - Bushfield                                   33\n",
       "Virgin Money London Marathon                                   33\n",
       "Haverhill parkrun                                              30\n",
       "Pocket parkrun                                                 28\n",
       "Greater Cambridge 10K                                          26\n",
       "Thurlow 5/10                                                   25\n",
       "Frostbite League - March AC                                    25\n",
       "St Neots Half Marathon                                         25\n",
       "Cambridge Cambourne 10k                                        24\n",
       "Great Eastern Run                                              23\n",
       "Dovedale Dash                                                  22\n",
       "Ely New Year's Eve 10K                                         22\n",
       "Frostbite League - Hunts AC (rescheduled)                      22\n",
       "Frostbite League                                               21\n",
       "Hoohaah Wimpole Estate Half Marathon and 10 Mile               20\n",
       "Frostbite League - Riverside                                   20\n",
       "Peterborough parkrun                                           19\n",
       "St Ives 10K                                                    19\n",
       "Abington 10K and Fun Run                                       19\n",
       "Bonfire Burn 10K                                               18\n",
       "Flaming June Half Marathon                                     18\n",
       "Round Norfolk Relay                                            17\n",
       "Vitality London 10,000                                         16\n",
       "Abington 10k                                                   15\n",
       "Perkins Great Eastern Run                                      15\n",
       "hoohaah Hatfield Forest 10K                                    13\n",
       "Fen Drayton 10K                                                13\n",
       "Kimbolton Castle Half Marathon                                 13\n",
       "Boundary Run                                                   13\n",
       "Wimpole Half Marathon                                          13\n",
       "hoohaah Childerley Estate 10k                                  12\n",
       "Fen Gallop                                                     12\n",
       "MK Marathon Weekend of Running                                 12\n",
       "Gransden Muddy Fun Run                                         11\n",
       "Fen Ditton 5                                                   11\n",
       "hoohaah Thetford Forest 10k                                    11\n",
       "Frostbite League - BRJ                                         10\n",
       "Rutland Water parkrun                                          10\n",
       "Harvest Trail Half                                             10\n",
       "Shelford Fun Run                                                9\n",
       "Swavesey Half Marathon and Five Miler                           9\n",
       "St Valentine's 30K                                              9\n",
       "Huntingdon parkrun                                              9\n",
       "Ipswich Twilight 5k                                             8\n",
       "Bedford parkrun                                                 8\n",
       "Letchworth parkrun                                              8\n",
       "Sandy 10                                                        8\n",
       "Bakewell parkrun                                                8\n",
       "Folksworth 15                                                   8\n",
       "Waterbeach Running Festival                                     8\n",
       "Chester Marathon                                                8\n",
       "BMW Berlin Marathon                                             7\n",
       "Greater Manchester Marathon                                     7\n",
       "Blickling parkrun                                               7\n",
       "Lakeland 50 & 100                                               7\n",
       "Saffron Striders Fast 5                                         7\n",
       "Newmarket Heath Race                                            6\n",
       "Buntingford Year End 10                                         6\n",
       "Markeaton parkrun                                               6\n",
       "Cranleigh parkrun                                               6\n",
       "Wymondham AC 20 miler                                           6\n",
       "Bass Belle 10                                                   6\n",
       "Tarpley 10 & 20                                                 6\n",
       "GEAR 10k                                                        6\n",
       "Tony Robinson multi-terrain 10K (The Beast)                     6\n",
       "Littleport 10K                                                  6\n",
       "Victoria Park 10k                                               5\n",
       "Edinburgh Marathon Festival                                     5\n",
       "Run Bedford 10k                                                 5\n",
       "Great Denham parkrun                                            5\n",
       "Castle Park parkrun                                             5\n",
       "Mole Valley parkrun                                             5\n",
       "Fritton Lake parkrun                                            5\n",
       "Sheringham Parkrun                                              5\n",
       "Green Thumb Fen 10                                              5\n",
       "Valentines parkrun                                              4\n",
       "Houghton Hall parkrun                                           4\n",
       "March parkrun                                                   4\n",
       "Barney Memorial 5K                                              4\n",
       "Brighton Marathon                                               4\n",
       "Barcelona Half Marathon                                         4\n",
       "Bassingbourn Half Marathon                                      4\n",
       "Malaga Marathon                                                 4\n",
       "Grimsthorpe Gallop                                              4\n",
       "37th Trinidad Alfonso EDP Valencia Marathon                     4\n",
       "Bedford Twilight 10K                                            4\n",
       "Fenland 10                                                      4\n",
       "Birmingham International Marathon                               4\n",
       "Roman Road Race                                                 4\n",
       "Folkestone 10                                                   4\n",
       "York parkrun                                                    4\n",
       "Beeston parkrun                                                 4\n",
       "Newark Half Marathon                                            4\n",
       "Bedford Harriers Half Marathon                                  4\n",
       "Sheringham parkrun                                              4\n",
       "Milton Keynes Winter Half Marathon (postponed)                  4\n",
       "Newbiggin-by-the-Sea parkrun                                    4\n",
       "After Adoption Regent's Park 10k                                4\n",
       "Hatfield Broad Oak 10k                                          4\n",
       "Boston parkrun                                                  4\n",
       "Kesgrave parkrun                                                3\n",
       "Harlow 10                                                       3\n",
       "Peterborough 5K Grand Prix Series - NVH                         3\n",
       "Ryston Runners Cross-Country Grand Prix                         3\n",
       "Amsterdam Marathon                                              3\n",
       "Fort William parkrun                                            3\n",
       "Whissendine 6ix                                                 3\n",
       "Riverside Runners Anniversary 10K                               3\n",
       "Oxford Half Marathon                                            3\n",
       "Montsouris (Paris) parkrun                                      3\n",
       "London Easter 10k                                               3\n",
       "Peterborough 5K Grand Prix Series - Eye Community Runners       3\n",
       "Peddars Way Ultra                                               3\n",
       "Stort 10 & 5                                                    3\n",
       "Bungay Festival of Running                                      3\n",
       "Sizewell parkrun                                                3\n",
       "Lode Half Marathon                                              2\n",
       "Leeds Abbey Dash                                                2\n",
       "Basildon parkrun                                                2\n",
       "Peterborough 5K Grand Prix Series - Thorney Running Club        2\n",
       "Catton parkrun                                                  2\n",
       "Great Cornard parkrun                                           2\n",
       "Southend parkrun                                                2\n",
       "Yorkshire Marathon                                              2\n",
       "The Abingdon Marathon                                           2\n",
       "Fell Foot Parkrun                                               2\n",
       "Corby parkrun                                                   2\n",
       "Queen Elizabeth parkrun                                         2\n",
       "South Oxhey parkrun                                             2\n",
       "Steeple Bumpstead 10K                                           2\n",
       "Scott Snowdonia Trail Half Marathon                             2\n",
       "Old Buckenham 10k                                               2\n",
       "Whinlatter Forest parkrun                                       2\n",
       "Clacton Seafront parkrun                                        2\n",
       "Keswick parkrun                                                 2\n",
       "Raceway Autumn Shakespeare Marathon                             2\n",
       "Cassiobury parkrun                                              2\n",
       "Manor Field parkrun                                             2\n",
       "Burnham-on-Crouch parkrun                                       2\n",
       "Letchworth parkrun                                              2\n",
       "Aldenham parkrun                                                2\n",
       "Brentwood parkrun                                               2\n",
       "Mulbarton parkrun                                               2\n",
       "Felixstowe parkrun                                              2\n",
       "Grantchester Charity 10k                                        2\n",
       "Fountains Abbey parkrun                                         2\n",
       "Norwich parkrun                                                 2\n",
       "Rickmansworth parkrun                                           2\n",
       "Great South Run                                                 2\n",
       "Rhyl 10 Mile and British Masters Championships                  2\n",
       "Ampthill Trophy XC                                              2\n",
       "Maldon Prom parkrun                                             2\n",
       "Cambourne 5k                                                    2\n",
       "Thurrock parkrun                                                2\n",
       "Brundall parkrun                                                2\n",
       "Tring parkrun                                                   2\n",
       "Lullingstone parkrun                                            2\n",
       "Peterborough 5K Grand Prix Series - Werrington Joggers          2\n",
       "Market Harborough parkrun                                       2\n",
       "Sixfields Upton parkrun                                         2\n",
       "Dorchester Lions 10 k                                           2\n",
       "Newcastle parkrun                                               2\n",
       "Thorney 10k                                                     2\n",
       "Catton parkrun                                                  2\n",
       "Beachy Head Marathon                                            2\n",
       "Upton Court parkrun                                             2\n",
       "Hockley Woods parkrun                                           2\n",
       "Mersea Island parkrun                                           2\n",
       "Ipswich parkrun                                                 2\n",
       "Wicklow Hospice one day festival of running                     2\n",
       "Arrow Valley parkrun                                            2\n",
       "Avondale parkrun                                                2\n",
       "Bevendean Down parkrun                                          2\n",
       "Hatfield 5                                                      2\n",
       "Lanhydrock parkrun                                              2\n",
       "Glossop parkrun                                                 2\n",
       "Hadleigh parkrun                                                2\n",
       "Regent's Park 10k - Summer Series                               2\n",
       "Jamaica Pond Parkrun                                            2\n",
       "Abingdon Marathon                                               2\n",
       "Gadebridge parkrun                                              2\n",
       "Holkham parkrun                                                 2\n",
       "Colney Lane parkrun                                             2\n",
       "Oak Hill parkrun                                                2\n",
       "RegentÆs Park Summer 10k series                                 2\n",
       "Colby Parkrun                                                   2\n",
       "South Woodham Ferrers parkrun                                   2\n",
       "Colworth Marathon Challenge. Second race. 8.1 miles             2\n",
       "Chelmsford Central parkrun                                      2\n",
       "Great Dunmow parkrun                                            2\n",
       "Milton Keynes parkrun                                           2\n",
       "Corby parkrun                                                   2\n",
       "Swaffham parkrun                                                2\n",
       "Billericay parkrun                                              2\n",
       "Roding Valley parkrun                                           2\n",
       "Run in the Woods 10k                                            2\n",
       "Preston Park parkrun                                            2\n",
       "The North Downs Run                                             2\n",
       "British 10K                                                     2\n",
       "Braunstone parkrun                                              2\n",
       "Chelmsford parkrun                                              2\n",
       "Serpentine Last Friday of the Month 5K                          1\n",
       "Peterborough 5K Grand Prix Series - Stamford Striders           1\n",
       "Lee Valley Velopark 10 miles                                    1\n",
       "Jersey parkrun                                                  1\n",
       "Horsham parkrun                                                 1\n",
       "Portrush parkrun                                                1\n",
       "Harbour Club Serpentine Last Friday of the Month 5k             1\n",
       "Altona Beach parkrun                                            1\n",
       "Brass Monkey Half Marathon                                      1\n",
       "Incheon Songdo Half Marathon                                    1\n",
       "Tour of the Derwent Valley - Duffield                           1\n",
       "London 10 Mile                                                  1\n",
       "Homewood parkrun                                                1\n",
       "Lode Half Marathon and Fun Run                                  1\n",
       "Edwin May Nissan Coleraine 5 Mile Classic                       1\n",
       "Stratford-upon-Avon parkrun                                     1\n",
       "Finsbury Park Parkrun                                           1\n",
       "Porthcawl parkrun                                               1\n",
       "Maribyrnong Parkrun                                             1\n",
       "Reykjavik Marathon                                              1\n",
       "Princes parkrun                                                 1\n",
       "Southbank Parkrun                                               1\n",
       "Lochore Meadows parkrun                                         1\n",
       "Witham May Day 10                                               1\n",
       "Supermaratona dell'Etna                                         1\n",
       "Whinlatter parkrun                                              1\n",
       "Leicestershire Half Marathon                                    1\n",
       "Westmill parkrun                                                1\n",
       "Nottingham Christmas Marathon                                   1\n",
       "Mallusk 5 Mile                                                  1\n",
       "King's Lynn parkrun                                             1\n",
       "Altona Beach Parkrun                                            1\n",
       "Harbour Club Serpentine Last Friday of the Month 5K             1\n",
       "Tour of the Derwent Valley - Bluebell                           1\n",
       "Tour of the Derwent Valley - Malt Shovel                        1\n",
       "Maribyrnong parkrun                                             1\n",
       "Tour of the Derwent Valley - Rowsley                            1\n",
       "Delamere parkrun                                                1\n",
       "Jamaica Pond parkrun                                            1\n",
       "Bay to Breakers                                                 1\n",
       "Whitemoor 5 miler                                               1\n",
       "Dereham 10                                                      1\n",
       "Name: name, dtype: int64"
      ]
     },
     "execution_count": 39,
     "metadata": {},
     "output_type": "execute_result"
    }
   ],
   "source": [
    "allResults['name'].value_counts()"
   ]
  },
  {
   "cell_type": "markdown",
   "metadata": {},
   "source": [
    "Show the total number of results in the data set."
   ]
  },
  {
   "cell_type": "code",
   "execution_count": 40,
   "metadata": {},
   "outputs": [
    {
     "data": {
      "text/plain": [
       "5043"
      ]
     },
     "execution_count": 40,
     "metadata": {},
     "output_type": "execute_result"
    }
   ],
   "source": [
    "totalNumResults = len(allResults)\n",
    "totalNumResults"
   ]
  },
  {
   "cell_type": "markdown",
   "metadata": {},
   "source": [
    "To be considered for a club runner award a runner will have run in what we might consider \"club races\". These \"club races\" only include races with the following text in the race names:\n",
    "- C&C\n",
    "- League\n",
    "- Championships\n",
    "- Cambourne\n",
    "- Relay\n",
    "\n",
    "I've created a new dataframe here called justCCraces that includes only these race results. "
   ]
  },
  {
   "cell_type": "code",
   "execution_count": 41,
   "metadata": {
    "collapsed": true
   },
   "outputs": [],
   "source": [
    "justCCraces = allResults[allResults['name'].str.contains('C&C|Frostbite|Kevin Henry|Championships|Cambridge Cambourne|Relay')]"
   ]
  },
  {
   "cell_type": "markdown",
   "metadata": {},
   "source": [
    "Show the total number of results in the new justCCraces dataframe."
   ]
  },
  {
   "cell_type": "code",
   "execution_count": 42,
   "metadata": {},
   "outputs": [
    {
     "data": {
      "text/plain": [
       "847"
      ]
     },
     "execution_count": 42,
     "metadata": {},
     "output_type": "execute_result"
    }
   ],
   "source": [
    "len(justCCraces)"
   ]
  },
  {
   "cell_type": "markdown",
   "metadata": {},
   "source": [
    "\n",
    "Tthese are all the races in my new result set."
   ]
  },
  {
   "cell_type": "code",
   "execution_count": 43,
   "metadata": {},
   "outputs": [
    {
     "data": {
      "text/plain": [
       "Kevin Henry 5K League - C&C                       94\n",
       "Cambridgshire County Championships                88\n",
       "C&C Boxing Day Run                                78\n",
       "Kevin Henry 5K League - CTC                       69\n",
       "English XC Championships                          68\n",
       "Kevin Henry 5K League - Newmarket Joggers         60\n",
       "Kevin Henry 5K League - Ely Runners               51\n",
       "South of England Main XC Championships            46\n",
       "Kevin Henry 5K League - Haverhill RC              42\n",
       "Kevin Henry 5K League - Saffron Striders          40\n",
       "Frostbite Friendly League - Riverside Runners     37\n",
       "Frostbite League - Bushfield                      33\n",
       "Frostbite League - March AC                       25\n",
       "Cambridge Cambourne 10k                           24\n",
       "Frostbite League - Hunts AC (rescheduled)         22\n",
       "Frostbite League                                  21\n",
       "Frostbite League - Riverside                      20\n",
       "Round Norfolk Relay                               17\n",
       "Frostbite League - BRJ                            10\n",
       "Rhyl 10 Mile and British Masters Championships     2\n",
       "Name: name, dtype: int64"
      ]
     },
     "execution_count": 43,
     "metadata": {},
     "output_type": "execute_result"
    }
   ],
   "source": [
    "justCCraces['name'].value_counts()"
   ]
  },
  {
   "cell_type": "markdown",
   "metadata": {},
   "source": [
    "### Top 40 club runners\n",
    "Here are the top 40 runners with the most occurrences for club races. There is no sex column in the data so it's male and female combined."
   ]
  },
  {
   "cell_type": "code",
   "execution_count": 44,
   "metadata": {},
   "outputs": [
    {
     "data": {
      "text/plain": [
       "Ian Richardson                 14\n",
       "Gerald Meah                    13\n",
       "Ben Chamberlain                11\n",
       "Alex Downie                    11\n",
       "Alex Geoghegan                 11\n",
       "Mike Brentnall                 11\n",
       "Andy Irvine                    11\n",
       "Martyn Brearley                11\n",
       "Tim Long                       10\n",
       "Carmel McEniery                10\n",
       "Karen Cameron                   8\n",
       "Charlie Ritchie                 8\n",
       "Glyn Smith                      8\n",
       "Michael Buchallet               8\n",
       "Karen Richardson                8\n",
       "Rob Mahen                       8\n",
       "Neil Costello                   8\n",
       "Rachel Pritchard                7\n",
       "Amanda Lasseter                 7\n",
       "Roberta Lanaro                  7\n",
       "Al Pritchard                    6\n",
       "Duncan Coombs                   6\n",
       "Chris Darling                   6\n",
       "Sue Brentnall                   6\n",
       "Isabelle Lemasson               6\n",
       "Dan Hurst                       6\n",
       "Reece Cockram                   6\n",
       "Jonathan Escalante-Phillips     6\n",
       "Dave Mail                       6\n",
       "Jon Anderson                    6\n",
       "Clare Bacchus                   6\n",
       "Ellie Swire                     6\n",
       "Istvan Jacso                    6\n",
       "Daniel Kitchie                  5\n",
       "Gabriele Fumagalli              5\n",
       "Daniel Aguilar-Agon             5\n",
       "Peter Bennet                    5\n",
       "Jonathan Griffiths              5\n",
       "Rachael Leah                    5\n",
       "Becca Frake                     5\n",
       "Name: runner name, dtype: int64"
      ]
     },
     "execution_count": 44,
     "metadata": {},
     "output_type": "execute_result"
    }
   ],
   "source": [
    "justCCraces['runner name'].value_counts().head(40)"
   ]
  },
  {
   "cell_type": "markdown",
   "metadata": {
    "collapsed": true
   },
   "source": [
    "### Comparison with the full data set\n",
    "Let's look at the top 40 in the full data set using the original dataframe."
   ]
  },
  {
   "cell_type": "code",
   "execution_count": 45,
   "metadata": {},
   "outputs": [
    {
     "data": {
      "text/plain": [
       "Ian Richardson        108\n",
       "Karen Richardson       87\n",
       "Andy Irvine            82\n",
       "Carmel McEniery        79\n",
       "Ben Chamberlain        70\n",
       "Alex Downie            67\n",
       "Pauline Blake          64\n",
       "Mike Brentnall         58\n",
       "Kerion Hunt            57\n",
       "Paul Jones             56\n",
       "Ben Meadows            55\n",
       "Alex Geoghegan         55\n",
       "Fiona Downie           53\n",
       "Martyn Brearley        53\n",
       "Gerald Meah            52\n",
       "Andrew Taylor          49\n",
       "Karl Jones             48\n",
       "Joseph Philip          47\n",
       "Peter Bennet           43\n",
       "Neil Tween             43\n",
       "Julie Stringer         43\n",
       "Tim Long               42\n",
       "Emma Phillips          42\n",
       "Chris Hurcomb          40\n",
       "Ross Dunsmore          40\n",
       "Margaret Phillips      40\n",
       "Sue Brentnall          39\n",
       "Andrew Parsons         39\n",
       "Paul Rudin             39\n",
       "Jonathan Rawlinson     38\n",
       "Scott White            38\n",
       "Chris Darling          37\n",
       "Rob Mahen              37\n",
       "Jools Hudson           36\n",
       "Una Mannu              35\n",
       "Avril Monmont          35\n",
       "Tom Lindfield          35\n",
       "Rachael Leah           35\n",
       "Mike Difranco          35\n",
       "Augusta McMahon        34\n",
       "Name: runner name, dtype: int64"
      ]
     },
     "execution_count": 45,
     "metadata": {},
     "output_type": "execute_result"
    }
   ],
   "source": [
    "allResults['runner name'].value_counts().head(40)"
   ]
  },
  {
   "cell_type": "markdown",
   "metadata": {},
   "source": [
    "### Excluding Parkrun\n",
    "Out of curiosity, I'm going to exclude Parkrun. I'm searching for 'arkrun' because it's case sensitive, then negating it with the '~' operator. I've created another new dataframe here called allResultsButNotParkrun."
   ]
  },
  {
   "cell_type": "code",
   "execution_count": 46,
   "metadata": {
    "collapsed": true
   },
   "outputs": [],
   "source": [
    "allResultsButNotParkrun = allResults[~allResults['name'].str.contains('arkrun')]"
   ]
  },
  {
   "cell_type": "markdown",
   "metadata": {},
   "source": [
    "Show the total number of results in the new allResultsButNotParkrun dataframe."
   ]
  },
  {
   "cell_type": "code",
   "execution_count": 47,
   "metadata": {},
   "outputs": [
    {
     "data": {
      "text/plain": [
       "2040"
      ]
     },
     "execution_count": 47,
     "metadata": {},
     "output_type": "execute_result"
    }
   ],
   "source": [
    "len(allResultsButNotParkrun)"
   ]
  },
  {
   "cell_type": "markdown",
   "metadata": {},
   "source": [
    "The top 40 in the allResultsButNotParkrun data set."
   ]
  },
  {
   "cell_type": "code",
   "execution_count": 48,
   "metadata": {},
   "outputs": [
    {
     "data": {
      "text/plain": [
       "Ian Richardson         49\n",
       "Gerald Meah            45\n",
       "Andy Irvine            36\n",
       "Carmel McEniery        33\n",
       "Jon Anderson           30\n",
       "Ben Chamberlain        30\n",
       "Mike Brentnall         29\n",
       "Karen Richardson       28\n",
       "Glyn Smith             22\n",
       "Martyn Brearley        21\n",
       "Alex Geoghegan         21\n",
       "Paul Jones             20\n",
       "Alex Downie            19\n",
       "Pauline Blake          18\n",
       "Sue Brentnall          18\n",
       "Ben Meadows            17\n",
       "Rachael Leah           17\n",
       "Dan Hurst              16\n",
       "Tim Long               16\n",
       "Chris Darling          16\n",
       "Dave Mail              15\n",
       "Charlie Ritchie        15\n",
       "Charlie Wartnaby       15\n",
       "Isabelle Lemasson      15\n",
       "Matt Slater            15\n",
       "Lynn Roberts           14\n",
       "Diana Braverman        14\n",
       "Julie Stringer         14\n",
       "Duncan Coombs          14\n",
       "Jess Cocker            13\n",
       "Daniel Aguilar-Agon    13\n",
       "Rob Mahen              12\n",
       "Jennifer Smith         12\n",
       "Jonathan Griffiths     12\n",
       "Clare Bacchus          12\n",
       "Anne Schumann          12\n",
       "Daniel Kitchie         12\n",
       "Chris Hurcomb          11\n",
       "Scott White            11\n",
       "Augusta McMahon        11\n",
       "Name: runner name, dtype: int64"
      ]
     },
     "execution_count": 48,
     "metadata": {},
     "output_type": "execute_result"
    }
   ],
   "source": [
    "allResultsButNotParkrun['runner name'].value_counts().head(40)"
   ]
  }
 ],
 "metadata": {
  "kernelspec": {
   "display_name": "Python 3",
   "language": "python",
   "name": "python3"
  },
  "language_info": {
   "codemirror_mode": {
    "name": "ipython",
    "version": 3
   },
   "file_extension": ".py",
   "mimetype": "text/x-python",
   "name": "python",
   "nbconvert_exporter": "python",
   "pygments_lexer": "ipython3",
   "version": "3.6.3"
  }
 },
 "nbformat": 4,
 "nbformat_minor": 1
}
